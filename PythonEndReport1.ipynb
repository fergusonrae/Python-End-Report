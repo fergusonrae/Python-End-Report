{
 "cells": [
  {
   "cell_type": "markdown",
   "metadata": {},
   "source": [
    "# Independent Study - Python Report\n",
    "Rachael Ferguson\n",
    "\n",
    "5/5/2017\n",
    "\n",
    "## Introduction\n",
    "\n",
    "This notebook was created to show an overview of language syntax and functions learned during the course. I used Python 3 for coding. Python is an open-source coding language with the potential for high user customization and freely available. Jupyter Notebooks were chosen for the report because they allowed for both coding and text portions interweaved with one another. The reader is able to run coding boxes when desired and make changes and re-run to see how things are affected.\n",
    "\n",
    "## How to Use This Notebook\n",
    "\n",
    "This is an interactive notebook where the reader can choose which code they would like to output. To output a cell's code, **hold CTRL and press ENTER**. This will run the code in that cell only. Code can also be altered by the reader and rerun with the new code.\n",
    "\n",
    "Some code is defined in a previous cell and then referenced later. If the first cell is not run, the later cell will result in an error because what it is referencing had not yet been defined. To avoid this pitfall, the user can select on the top toolbar, **Cell - Run All**."
   ]
  },
  {
   "cell_type": "markdown",
   "metadata": {},
   "source": [
    "## Sololearn.com\n",
    "### Overview\n",
    "\n",
    "Sololearn is a website which provides various modules detailing the overall functions of a coding language. In it, a user can work through the modules, which supplement quizes and tests among the material, to achieve a certificiation. I was able to achieve this certification.\n",
    "\n",
    "For the first four weeks of the independent study, I worked with this website to achieve the final certification. Through this I developed an understanding of basic functions, uses, and syntax of Python 3.\n",
    "\n",
    "Below I have listed examples of overall coding syntax and functions that I learned through this program."
   ]
  },
  {
   "cell_type": "markdown",
   "metadata": {},
   "source": [
    "## Basic Concepts\n",
    "\n",
    "### Storing data as variables\n",
    "\n",
    "To store data as a variable, write VARIABLE_NAME = stufff. Python variable names are case sensitive. Also, a variable can be named almost anything, including python functions. This rewrites the name to mean the variable so it will no longer be possible to call that function until the same-name variable is deleted."
   ]
  },
  {
   "cell_type": "code",
   "execution_count": 1,
   "metadata": {
    "collapsed": false
   },
   "outputs": [
    {
     "name": "stdout",
     "output_type": "stream",
     "text": [
      "7\n",
      "sup\n"
     ]
    },
    {
     "data": {
      "text/plain": [
       "4"
      ]
     },
     "execution_count": 1,
     "metadata": {},
     "output_type": "execute_result"
    }
   ],
   "source": [
    "a = 3+4 # Here, it is stored in a variable\n",
    "A = \"sup\" # Variables are case sensitive\n",
    "print(a) # a must be specifically outputted to be viewed\n",
    "print(A)\n",
    "2+2 # Here, it is simply outputted."
   ]
  },
  {
   "cell_type": "code",
   "execution_count": null,
   "metadata": {
    "collapsed": false
   },
   "outputs": [],
   "source": [
    "print(2**4) # Prints 2^4\n",
    "print(30//4) # Prints the quotient\n",
    "print(30 % 4) # Prints the remainder"
   ]
  },
  {
   "cell_type": "code",
   "execution_count": null,
   "metadata": {
    "collapsed": false
   },
   "outputs": [],
   "source": [
    "x = 6\n",
    "print(x)\n",
    "x+=3 # Same as writing x = x+3, more concise\n",
    "print(x)\n",
    "x+=4\n",
    "print(x)"
   ]
  },
  {
   "cell_type": "markdown",
   "metadata": {},
   "source": [
    "### Data Types"
   ]
  },
  {
   "cell_type": "markdown",
   "metadata": {},
   "source": [
    "***Integers***\n",
    "\n",
    "Ints are numbers without decimal places. They are useful for counting iterations and defining indexes."
   ]
  },
  {
   "cell_type": "markdown",
   "metadata": {},
   "source": [
    "***String***\n",
    "\n",
    "Used to create text in Python. To create, enter things between either double \" \" or single ' ' quotation marks.\n",
    "\n",
    "Some characters can't be included in strings by themselves. For example, quotation marks. To include them, a user must write a backslah in front of the character.\n",
    "\n",
    "Strings can be mutiplied by integers, but not floats."
   ]
  },
  {
   "cell_type": "code",
   "execution_count": null,
   "metadata": {
    "collapsed": false
   },
   "outputs": [],
   "source": [
    "print(\"Hello World\")\n",
    "print(\"How y\\'all doin\\'\") # Use backslash to insert quotes as text\n",
    "print(\"Huh?\"*4)\n",
    "try:\n",
    "    print(\"Huh?\"*2.0)# Strings cannot be multiplied by floats, error\n",
    "    # A try statement is needed to bypass exception output\n",
    "except Exception:\n",
    "    print(\"Bad data type\")\n",
    "    pass"
   ]
  },
  {
   "cell_type": "markdown",
   "metadata": {},
   "source": [
    "***Float***\n",
    "\n",
    "Floats represent numbers that are not integers. They're made automatically by inputting a number with a decimal or using calculation operations like dividing or multiplying"
   ]
  },
  {
   "cell_type": "code",
   "execution_count": null,
   "metadata": {
    "collapsed": false
   },
   "outputs": [],
   "source": [
    "print(4/2) # A float\n",
    "print(4-2) # An int\n",
    "print(4-2.0) # A float"
   ]
  },
  {
   "cell_type": "markdown",
   "metadata": {},
   "source": [
    "***Boolean***\n",
    "\n",
    "Boolean data types can be True or False. They are created y comparing value like using the equal operator"
   ]
  },
  {
   "cell_type": "code",
   "execution_count": null,
   "metadata": {
    "collapsed": false
   },
   "outputs": [],
   "source": [
    "print(6==3) #Will be False, not false\n",
    "print(\"koko\" == \"koko\") #Will be True, not true\n",
    "print(\"Sashay\" != \"Shantay\") #Will be True, because != means not equal\n",
    "print(23<7) #Will be false because 23 is larger than 7"
   ]
  },
  {
   "cell_type": "markdown",
   "metadata": {},
   "source": [
    "### Converting Types\n",
    "\n",
    "To perform some operations, data must be a certain type. To convert one data type to another, use the syntax TYPE_DESIRE(VALUES HERE)"
   ]
  },
  {
   "cell_type": "code",
   "execution_count": null,
   "metadata": {
    "collapsed": false
   },
   "outputs": [],
   "source": [
    "a = \"2\"+\"3\" # Adding the data as strings\n",
    "print(a)\n",
    "\n",
    "b = int(\"2\") + int(\"3\") # Converting and adding the data as ints\n",
    "print(b)\n",
    "\n",
    "print(str(45.3) + str(76.9)) #Converts floats to strings"
   ]
  },
  {
   "cell_type": "markdown",
   "metadata": {},
   "source": [
    "### If / Else Statements\n",
    "\n",
    "If statements are sections of code that will run once if the beginning boolean expression is not True. It can be supplemented with an else statement that will catch attempts that evaluate to false.\n",
    "\n",
    "If statements can be nested."
   ]
  },
  {
   "cell_type": "code",
   "execution_count": null,
   "metadata": {
    "collapsed": false
   },
   "outputs": [],
   "source": [
    "x=6\n",
    "if x == 6: # This expression is True, so the code in the if statement is continued\n",
    "    x+= 3\n",
    "print(x)"
   ]
  },
  {
   "cell_type": "code",
   "execution_count": null,
   "metadata": {
    "collapsed": false
   },
   "outputs": [],
   "source": [
    "x=4\n",
    "if x == 6: # This expression is False, so the remainder of the if statement is ignored\n",
    "    x+= 3\n",
    "print(x)"
   ]
  },
  {
   "cell_type": "code",
   "execution_count": null,
   "metadata": {
    "collapsed": false
   },
   "outputs": [],
   "source": [
    "x=6\n",
    "if x == 6: # This expression is True, so the code in the if statement is continued\n",
    "    x+= 3\n",
    "else: # Because if was true, this statement is ignored\n",
    "    x=200\n",
    "print(x)"
   ]
  },
  {
   "cell_type": "code",
   "execution_count": null,
   "metadata": {
    "collapsed": false
   },
   "outputs": [],
   "source": [
    "x=4\n",
    "if x == 6: # This expression is False, so the remainder of the if statement is ignored\n",
    "    x+= 3\n",
    "else: # Because if was false, this statement is carried out\n",
    "    x=200\n",
    "print(x)"
   ]
  },
  {
   "cell_type": "markdown",
   "metadata": {},
   "source": [
    "### For Loops\n",
    "\n",
    "For loops are like if statements, but they will run as many times as they can until the expression is false. It is usually used to run a section of code a certain number of times."
   ]
  },
  {
   "cell_type": "code",
   "execution_count": null,
   "metadata": {
    "collapsed": false
   },
   "outputs": [],
   "source": [
    "# Basic for loop syntax\n",
    "\n",
    "for i in range(7): # repeat this code 7 times\n",
    "    print(\"Whoop\")"
   ]
  },
  {
   "cell_type": "markdown",
   "metadata": {},
   "source": [
    "### Data Structures\n",
    "\n",
    "Here, I will go over four data structures, their uses, and their differences. These structures are: list, dictionary, tuple, and set."
   ]
  },
  {
   "cell_type": "markdown",
   "metadata": {},
   "source": [
    "***List***\n",
    "\n",
    "A list is the most flexible of the data structures in Python and is useful when the user has a collection of data that doesn not need to be in any certain order. It is simple, iterable and quick to create and destroy.\n",
    "\n",
    "A list is created by putting the data into square brackets.\n",
    "\n",
    "Lists can be created a variety of ways including listing out the data, outputting an equation, and importing data from a file. Examples of the first two methods are shown below."
   ]
  },
  {
   "cell_type": "code",
   "execution_count": null,
   "metadata": {
    "collapsed": false
   },
   "outputs": [],
   "source": [
    "# A simple list\n",
    "list1 = [0, 6, 7]\n",
    "print(list1)"
   ]
  },
  {
   "cell_type": "code",
   "execution_count": null,
   "metadata": {
    "collapsed": false
   },
   "outputs": [],
   "source": [
    "# A list created using a for loop\n",
    "list2 = [i**4 for i in range(2,4)] # Saves the items created from this for loop in list2 list\n",
    "print(list2[1])"
   ]
  },
  {
   "cell_type": "code",
   "execution_count": null,
   "metadata": {
    "collapsed": false
   },
   "outputs": [],
   "source": [
    "# Adding and removing an item from a list\n",
    "list1 = [0, 6, 7]\n",
    "list1[0] = 2 # Changes the item in slot 0 from 0 to 2\n",
    "del list1[2] # Deletes the item in slot 2\n",
    "print(list1)\n",
    "print(len(list1)) # Prints the size of the list"
   ]
  },
  {
   "cell_type": "code",
   "execution_count": null,
   "metadata": {
    "collapsed": false
   },
   "outputs": [],
   "source": [
    "# An example of a list of lists\n",
    "list3D = [[4, 3, 3], \n",
    "          [3, 6, 7],\n",
    "          [2, 1]]\n",
    "print(list3D)"
   ]
  },
  {
   "cell_type": "markdown",
   "metadata": {},
   "source": [
    "***Dictionary***\n",
    "\n",
    "A dictionary is used to store items that have a logical association with other items. This structure store them in a way that they become a key:value pair. It's good for when a user wants to access data based on a custom key. It is easily written over so it is useful when the user is working with data that is constantly being modified.\n",
    "\n",
    "A dictionary is created by placing the data into curly brackets { }. The key is paired with a value by putting a colon : between them.\n",
    "\n",
    "A dictionary can be thought of like a list, but with variable keys instead of integer keys"
   ]
  },
  {
   "cell_type": "code",
   "execution_count": null,
   "metadata": {
    "collapsed": false
   },
   "outputs": [],
   "source": [
    "# A simple dictionary\n",
    "employeeAges = {\"Bob\":18, \"Sasha\":35, \"Xin\": 30,}\n",
    "print(employeeAges[\"Sasha\"])"
   ]
  },
  {
   "cell_type": "code",
   "execution_count": null,
   "metadata": {
    "collapsed": false
   },
   "outputs": [],
   "source": [
    "# Rewriting a cell\n",
    "employeeAges[\"Sasha\"] = 40\n",
    "print(employeeAges[\"Sasha\"]) # Prints new key:value pair\n",
    "\n",
    "print(35 in employeeAges) \n",
    "# Searches for 35 in the dictionary. It is not found because we previously changed Sasha's age\n",
    "\n",
    "print(employeeAges.get(\"Amy\", \"not in dictionary\")) \n",
    "print(employeeAges.get(\"Xin\", \"not in dictionary\"))\n",
    "# Get's the key's value. If not found in dict, will return second value"
   ]
  },
  {
   "cell_type": "markdown",
   "metadata": {},
   "source": [
    "***Tuple***\n",
    "\n",
    "A tuple is useful when a user does not want the data to be altered or changed in any way. Once a tuple is created, its contents cannot be rewritten.\n",
    "\n",
    "This structure can be written with parenthesis ( ) but they are not required."
   ]
  },
  {
   "cell_type": "code",
   "execution_count": null,
   "metadata": {
    "collapsed": false
   },
   "outputs": [],
   "source": [
    "# A simple tuple\n",
    "tups = (\"Hoo\", \"Hey\", \"Yeah\")\n",
    "print(tups[1])"
   ]
  },
  {
   "cell_type": "code",
   "execution_count": null,
   "metadata": {
    "collapsed": false
   },
   "outputs": [],
   "source": [
    "# Example of error when attempting to rewrite tuple\n",
    "try:\n",
    "    tups[1] = \"Hello\"\n",
    "except Exception:\n",
    "    print(\"Cannot rewrite tuple\")\n",
    "    pass"
   ]
  },
  {
   "cell_type": "code",
   "execution_count": 2,
   "metadata": {
    "collapsed": false
   },
   "outputs": [
    {
     "name": "stdout",
     "output_type": "stream",
     "text": [
      "('You', 'Look', 'Nice')\n"
     ]
    }
   ],
   "source": [
    "# Example of tuple written without parenthesis\n",
    "tuptup = \"You\", \"Look\", \"Nice\"\n",
    "print(tuptup)"
   ]
  },
  {
   "cell_type": "code",
   "execution_count": 3,
   "metadata": {
    "collapsed": false
   },
   "outputs": [
    {
     "name": "stdout",
     "output_type": "stream",
     "text": [
      "['You', 'Seem', 'Nice']\n"
     ]
    }
   ],
   "source": [
    "# Converting a tuple to a list\n",
    "tuplist = list(tuptup)\n",
    "tuplist[1] = \"Seem\"\n",
    "print(tuplist)"
   ]
  },
  {
   "cell_type": "markdown",
   "metadata": {},
   "source": [
    "***Set***\n",
    "\n",
    "A set is useful when it is required that all elements be unique. Sets do not allow multiple instances of an item. If a user inputs more than one instance, an error will not be thrown, but the additional instances will be ignored. The items are also unordered and called by their value.\n",
    "\n",
    "Another feature of sets is that they are faster to check through versus lists.\n",
    "\n",
    "Sets are created using curly brackets { } just like dictionaries. However, they do not contain key:value pairs.\n",
    "\n",
    "Sets can also be compared using math terms such as union |, intersection &, difference -, and exclusive ^"
   ]
  },
  {
   "cell_type": "code",
   "execution_count": null,
   "metadata": {
    "collapsed": false
   },
   "outputs": [],
   "source": [
    "# A simple set\n",
    "set1 = {\"Good\", \"Vibes\", \"Man\", 9}\n",
    "print(set1)\n",
    "\n",
    "#Shows that the set does not store additional instances of a variable\n",
    "set2 = {6, 7, 6, 6, 9}\n",
    "print(set2)"
   ]
  },
  {
   "cell_type": "code",
   "execution_count": null,
   "metadata": {
    "collapsed": false
   },
   "outputs": [],
   "source": [
    "print(\"Good\" in set1) \n",
    "# Returns a boolean if \"Good\" is in the listed set"
   ]
  },
  {
   "cell_type": "code",
   "execution_count": null,
   "metadata": {
    "collapsed": false
   },
   "outputs": [],
   "source": [
    "set1.add(\"Yeehah\") # Adds the item \"Yeehah\" to the set in no particular order\n",
    "print(set1)"
   ]
  },
  {
   "cell_type": "code",
   "execution_count": null,
   "metadata": {
    "collapsed": false
   },
   "outputs": [],
   "source": [
    "print(set1 | set2) # Prints all items contained in one or both sets\n",
    "print(set1 & set2) # Prints item that are exclusively contained in both sets\n",
    "print(set1 - set2) # Prints items that are in the first set, but not the second\n",
    "print(set1 ^ set2) # Prints items that are in one set, but not both"
   ]
  },
  {
   "cell_type": "markdown",
   "metadata": {},
   "source": [
    "## Functions\n",
    "\n",
    "Functions are a way to reuse code to save space in the program and make code easier to read. Python comes with a lot of preinstalled functions and additional functions can be imported from modules. Any statement that is a word followed by parenthesis is a function call."
   ]
  },
  {
   "cell_type": "code",
   "execution_count": null,
   "metadata": {
    "collapsed": false
   },
   "outputs": [],
   "source": [
    "# Functions I have already defined\n",
    "\n",
    "str(3.0) # String function\n",
    "print(\"Koko\") # Print function\n",
    "range(2, 50) # Range function going from 2 to 49 inclusive"
   ]
  },
  {
   "cell_type": "code",
   "execution_count": null,
   "metadata": {
    "collapsed": false,
    "scrolled": true
   },
   "outputs": [],
   "source": [
    "# Examples of additional string functions\n",
    "\n",
    "print(\"!\".join([\"5\", \"7\", \"2\"])) # Join, places a ! between list items\n",
    "\n",
    "print(\"Hello ME\".replace(\"ME\", \"world\")) # Replace, replaces one word with another\n",
    "\n",
    "print(\"This is a sentence.\".startswith(\"This\")) \n",
    "# Startswith, a boolean that checks if the string starts with the listed characters"
   ]
  },
  {
   "cell_type": "markdown",
   "metadata": {},
   "source": [
    "### Creating New Functions\n",
    "\n",
    "New functions can be made using the def statement. This involves the user naming the function and then defining what that function will do when called.\n",
    "\n",
    "Arguments in defined functions can consist of variables or other functions.\n",
    "\n",
    "When functions are created, they are assigned to a variable automatically. However, this can be changed by creating an anonymous function using lambda syntax. This is best used for simple functions as they can only be used to define a single expression.\n",
    "\n",
    "There are very rare times when using lambda is better than just defining a fucntion. It makes it harder for others to read the user's code and can ony be used for the simplist of expressions."
   ]
  },
  {
   "cell_type": "code",
   "execution_count": null,
   "metadata": {
    "collapsed": false
   },
   "outputs": [],
   "source": [
    "# A simple user-made function\n",
    "\n",
    "def saying_hi(): # Names the function saying_hi, no arguments are passed so the parentesis remain empty\n",
    "    print(\"Hey!\") # What the function will do\n",
    "    \n",
    "saying_hi() # Calling the function. States the name and passes any parameters (arguments). Here, there are none"
   ]
  },
  {
   "cell_type": "code",
   "execution_count": null,
   "metadata": {
    "collapsed": false
   },
   "outputs": [],
   "source": [
    "# A more complex function, returns the average of two passed variables\n",
    "\n",
    "def average(a, b): # Function called average, passed parameters or arguments a and b\n",
    "    return (a+b)/2 # When this function is called, it will return the calculation\n",
    "\n",
    "one = 12 #A defined variable\n",
    "two = 13 # Another defined variable\n",
    "\n",
    "print(average(one, two)) # Will print output of function average where one is in the place of a and two is in the place of b"
   ]
  },
  {
   "cell_type": "code",
   "execution_count": 4,
   "metadata": {
    "collapsed": false
   },
   "outputs": [
    {
     "name": "stdout",
     "output_type": "stream",
     "text": [
      "0\n",
      "-2\n",
      "12\n"
     ]
    }
   ],
   "source": [
    "# A named function\n",
    "def polynomial(x):\n",
    "    return x**2 + 5*x + 4\n",
    "print(polynomial(-4))\n",
    "\n",
    "# A lambda (or anonymous) function\n",
    "print((lambda x: x**2 + 5*x + 4) (-2))\n",
    "\n",
    "# A lambda function assigned to a variable\n",
    "threeTimes = lambda x: x*3\n",
    "print(threeTimes(4))"
   ]
  },
  {
   "cell_type": "markdown",
   "metadata": {},
   "source": [
    "### List Slicing\n",
    "\n",
    "List slicing involves taking a list and cutting it up to only display certain items. Despite its name, list slicing can be done on lists, dictionaries, and tuples. It cannot be done on sets because sets have no order.\n",
    "\n",
    "A list slice consists of a couple parameters and it written as follows:\n",
    "\n",
    "LIST_NAME[start : end : steps]\n",
    "\n",
    "Start is where the user wants the new list to start from the old list. End is where the user wants the new list to end from the old list. It is not inclusive, so the list will end one step previously. Steps is the number of old items the user wants to skip between each new item.\n",
    "\n",
    "MORE EXAMPLES SPECIFIC, pragma, overall important ones"
   ]
  },
  {
   "cell_type": "code",
   "execution_count": 6,
   "metadata": {
    "collapsed": false
   },
   "outputs": [
    {
     "name": "stdout",
     "output_type": "stream",
     "text": [
      "[3, 5, 23, 65]\n",
      "[5, 65]\n",
      "[4, 65, 23, 5]\n"
     ]
    }
   ],
   "source": [
    "# Example of list slicing\n",
    "\n",
    "sliced = [9, 7, 3, 5, 23, 65, 4, 6, 78]\n",
    "print(sliced[2:6]) # Prints indexes 2 through 5 inclusive\n",
    "print(sliced[3:7:2]) # Prints indexes 3 and 5, taking every other index due to a 2 for steps\n",
    "print(sliced[6:2:-1]) #"
   ]
  },
  {
   "cell_type": "markdown",
   "metadata": {},
   "source": [
    "### Modules\n",
    "\n",
    "Modules are pre-written code that can be imported into a journal. They are a simple way to have access to desireable functions without having to write and define each function.\n",
    "\n",
    "They are placed in the document by writing import MODULE_NAME and are best imported at the beginning of the document to avoid accidentally calling a module before importing it.\n",
    "\n",
    "Some important modules when analyzing data are numpy, pandas, and matplotlib. They are examined further later in this document."
   ]
  },
  {
   "cell_type": "code",
   "execution_count": null,
   "metadata": {
    "collapsed": false
   },
   "outputs": [],
   "source": [
    "# Example module import, the random module\n",
    "import random\n",
    "\n",
    "for i in range(6): #repeat this section of code 6 times\n",
    "    rand = random.randint(1,6) # Using the random module's function randint, select a number between 1 and 6 inclusive\n",
    "    print(rand)\n"
   ]
  },
  {
   "cell_type": "markdown",
   "metadata": {},
   "source": [
    "It's also possible to import only certain functions from a module to save the computer the extra space of importing an entire module. "
   ]
  },
  {
   "cell_type": "code",
   "execution_count": null,
   "metadata": {
    "collapsed": false
   },
   "outputs": [],
   "source": [
    "from random import randint #how to import an function from a module"
   ]
  },
  {
   "cell_type": "markdown",
   "metadata": {},
   "source": [
    "## Yahtzee Example\n",
    "\n",
    "Using the above coding learned through SoloLearn, I created a game simulation that would output the probability of receiving a yahtzee in the game Yahtzee based off of a certain number of trials. It can be run below. To see how the number of trials affects the probability outputted, the numtrials variable can be altered and the cell rerun.\n",
    "\n",
    "The program assumes that a person can only reroll selected dice once because this was how I always played the game. It also assumes that a person will select the dice number with the highest number of frequency in the roll to \"hold on\" to and reroll the rest in pursue a yahtzee. If there is a tie for the highest number of frequencies, the smallest value will be kept."
   ]
  },
  {
   "cell_type": "code",
   "execution_count": 99,
   "metadata": {
    "collapsed": false
   },
   "outputs": [
    {
     "name": "stdout",
     "output_type": "stream",
     "text": [
      "[4, 4, 6, 3, 1]\n",
      "[1, 0, 1, 2, 0, 1]\n",
      "Number of most matching dice: 2\n",
      "Value of most matching dice: 4 \n",
      "\n",
      "[3, 3, 5, 2, 3]\n",
      "[0, 1, 3, 0, 1, 0]\n",
      "Number of most matching dice: 3\n",
      "Value of most matching dice: 3 \n",
      "\n",
      "[2, 2, 2, 1, 1]\n",
      "[2, 3, 0, 0, 0, 0]\n",
      "Number of most matching dice: 3\n",
      "Value of most matching dice: 1 \n",
      "\n",
      "[5, 6, 6, 3, 5]\n",
      "[0, 0, 1, 0, 2, 2]\n",
      "Number of most matching dice: 2\n",
      "Value of most matching dice: 6 \n",
      "\n",
      "[4, 5, 4, 4, 2]\n",
      "[0, 1, 0, 3, 1, 0]\n",
      "Number of most matching dice: 3\n",
      "Value of most matching dice: 4 \n",
      "\n",
      "[1, 3, 6, 1, 4]\n",
      "[2, 0, 1, 1, 0, 1]\n",
      "Number of most matching dice: 2\n",
      "Value of most matching dice: 1 \n",
      "\n",
      "[6, 4, 2, 6, 4]\n",
      "[0, 1, 0, 2, 0, 2]\n",
      "Number of most matching dice: 2\n",
      "Value of most matching dice: 4 \n",
      "\n",
      "[5, 4, 3, 4, 4]\n",
      "[0, 0, 1, 3, 1, 0]\n",
      "Number of most matching dice: 3\n",
      "Value of most matching dice: 4 \n",
      "\n",
      "[1, 6, 1, 4, 6]\n",
      "[2, 0, 0, 1, 0, 2]\n",
      "Number of most matching dice: 2\n",
      "Value of most matching dice: 1 \n",
      "\n",
      "[5, 4, 5, 5, 1]\n",
      "[1, 0, 0, 1, 3, 0]\n",
      "Number of most matching dice: 3\n",
      "Value of most matching dice: 5 \n",
      "\n",
      "0.0 %\n"
     ]
    }
   ],
   "source": [
    "from random import randint\n",
    "\n",
    "numTrials = 10 # The number of times the simulation will repeat\n",
    "numYahtzee = 0\n",
    "frequency = [0,0,0,0,0,0] # Begins as an empty list of a designated size so as to throw an error if data do not fit\n",
    "maxFreq = 0\n",
    "maxIndex = 0\n",
    "\n",
    "for i in range(numTrials):\n",
    "    rollOne = [randint(1,6), randint(1,6), randint(1,6), randint(1,6), randint(1,6)]\n",
    "     # Creates a list of 5 random dice rolls called values here, inclusive\n",
    "    # This list is considered the computer's first roll\n",
    "    \n",
    "    for j in range(6):\n",
    "        frequency[j] = rollOne.count(j+1) \n",
    "        # Rewrites frequency indexes with the number of times a value came up in the roll\n",
    "        # The number of 1's in the roll corresponds with frequency[0] and so on\n",
    "        \n",
    "        if rollOne.count(j+1) > maxFreq:\n",
    "            maxFreq = rollOne.count(j+1)\n",
    "            maxIndex = j+1\n",
    "            # If the count of a value of the roll is larger than all previous counts, then it is considered the new maxFreq\n",
    "            # The maxIndex is then set to the value of the highest frequency\n",
    "    \n",
    "    if max(frequency) == 5:\n",
    "        numYahtzee += 1\n",
    "        # If the count of the value is equal to 5, that means all die are the same value and you have a Yahtzee!\n",
    "        \n",
    "    else: # If you do not have a yahtzee, reroll\n",
    "        for k in range(5):\n",
    "            if rollOne[k] != maxIndex:\n",
    "                rollOne[k] = randint(1,6)\n",
    "            # Rewrites the new roll\n",
    "            # For each die, if its value is not equal to the maxIndex value (the value of highest frequency), then it is rerolled\n",
    "            \n",
    "        maxFreq = 0 # Resets the variable\n",
    "        for l in range(6):\n",
    "            frequency[l] = rollOne.count(l + 1)\n",
    "            if rollOne.count(l + 1) > maxFreq:\n",
    "                maxFreq = rollOne.count(l + 1)\n",
    "            # Examines the dice again, keeping track of the highest frequency\n",
    "            # maxIndex remains the same, so it does not need to be rerecorded\n",
    "            \n",
    "        if max(frequency) == 5:\n",
    "            numYahtzee += 1\n",
    "            # If there is a yahtzee after the second roll, add it to the number of yahtzees\n",
    "            \n",
    "    print(rollOne) # Prints the roll after rerolling desired dice\n",
    "    print(frequency) # Prints a list of the frequencies of each value\n",
    "    print('Number of most matching dice:', max(frequency)) # Prints the highest frequency\n",
    "    print('Value of most matching dice:', maxIndex, '\\n') # Prints the value of the highest frequency\n",
    "    maxFreq = 0\n",
    "    maxIndex = 0\n",
    "    # Resets the variables for the next roll\n",
    "    # For loop then repeats for the len(numTrials) \n",
    "\n",
    "print(numYahtzee/numTrials*100, \"%\")"
   ]
  }
 ],
 "metadata": {
  "kernelspec": {
   "display_name": "Python 3",
   "language": "python",
   "name": "python3"
  },
  "language_info": {
   "codemirror_mode": {
    "name": "ipython",
    "version": 3
   },
   "file_extension": ".py",
   "mimetype": "text/x-python",
   "name": "python",
   "nbconvert_exporter": "python",
   "pygments_lexer": "ipython3",
   "version": "3.6.0"
  }
 },
 "nbformat": 4,
 "nbformat_minor": 2
}
